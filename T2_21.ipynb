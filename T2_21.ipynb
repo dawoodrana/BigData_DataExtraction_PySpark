{
 "cells": [
  {
   "cell_type": "code",
   "execution_count": 1,
   "metadata": {},
   "outputs": [
    {
     "name": "stderr",
     "output_type": "stream",
     "text": [
      "21/07/17 07:05:48 WARN NativeCodeLoader: Unable to load native-hadoop library for your platform... using builtin-java classes where applicable\n",
      "Using Spark's default log4j profile: org/apache/spark/log4j-defaults.properties\n",
      "Setting default log level to \"WARN\".\n",
      "To adjust logging level use sc.setLogLevel(newLevel). For SparkR, use setLogLevel(newLevel).\n",
      "21/07/17 07:05:49 WARN Utils: Service 'SparkUI' could not bind on port 4040. Attempting port 4041.\n",
      "21/07/17 07:05:49 WARN Utils: Service 'SparkUI' could not bind on port 4041. Attempting port 4042.\n"
     ]
    },
    {
     "name": "stdout",
     "output_type": "stream",
     "text": [
      "<class 'pyspark.sql.session.SparkSession'>\n"
     ]
    }
   ],
   "source": [
    "from pyspark.context import SparkContext\n",
    "from pyspark.sql.session import SparkSession\n",
    "sc = SparkContext('local')\n",
    "spark = SparkSession(sc)\n",
    "print(type(spark))"
   ]
  },
  {
   "cell_type": "code",
   "execution_count": 22,
   "metadata": {},
   "outputs": [
    {
     "name": "stdout",
     "output_type": "stream",
     "text": [
      "+-----------+-------------+--------------------+--------------------+-----------+--------------------+--------------------+-------+------+--------+-------------+--------------------+-----------------+----------------+----------------------+--------------------+\n",
      "|   video_id|trending_date|               title|       channel_title|category_id|        publish_time|                tags|  views| likes|dislikes|comment_count|      thumbnail_link|comments_disabled|ratings_disabled|video_error_or_removed|         description|\n",
      "+-----------+-------------+--------------------+--------------------+-----------+--------------------+--------------------+-------+------+--------+-------------+--------------------+-----------------+----------------+----------------------+--------------------+\n",
      "|LgVi6y5QIjM|     17.14.11|Sing zu Ende! | G...|           inscope21|         24|2017-11-13T17:08:...|\"inscope21\"|\"sing...| 252786| 35885|     230|         1539|https://i.ytimg.c...|            False|           False|                 False|Heute gibt es mal...|\n",
      "|Bayt7uQith4|     17.14.11|Kinder ferngesteu...|LUKE! Die Woche u...|         23|2017-11-12T22:30:...|\"Kinder\"|\"fernges...| 797196| 53576|     302|         1278|https://i.ytimg.c...|            False|           False|                 False|Kinder ferngesteu...|\n",
      "|1ZAPwfrtAFY|     17.14.11|The Trump Preside...|     LastWeekTonight|         24|2017-11-13T07:30:...|\"last week tonigh...|2418783| 97190|    6146|        12703|https://i.ytimg.c...|            False|           False|                 False|One year after th...|\n",
      "|AHtypnRk7JE|     17.14.11| Das Fermi-Paradoxon|   100SekundenPhysik|         27|2017-11-12T15:00:...|\"Physik\"|\"Wissens...| 380247| 31821|     458|         1955|https://i.ytimg.c...|            False|           False|                 False|►Alle Videos: htt...|\n",
      "|ZJ9We4bjcg0|     17.14.11|18 SONGS mit Kell...|                rezo|         24|2017-11-12T13:10:...|\"kelly\"|\"missesvl...| 822213|100684|    2467|        10244|https://i.ytimg.c...|            False|           False|                 False|18 Song Mashup üb...|\n",
      "+-----------+-------------+--------------------+--------------------+-----------+--------------------+--------------------+-------+------+--------+-------------+--------------------+-----------------+----------------+----------------------+--------------------+\n",
      "only showing top 5 rows\n",
      "\n"
     ]
    },
    {
     "name": "stderr",
     "output_type": "stream",
     "text": [
      "\r",
      "[Stage 15:>                                                         (0 + 1) / 1]\r",
      "\r",
      "                                                                                \r"
     ]
    }
   ],
   "source": [
    "dataframe = spark.read.option(\"inferschema\", \"true\").option(\"header\", \"true\").csv(\"DEvideos02.csv\")\n",
    "dataframe.show(5)"
   ]
  },
  {
   "cell_type": "code",
   "execution_count": 23,
   "metadata": {},
   "outputs": [
    {
     "name": "stdout",
     "output_type": "stream",
     "text": [
      "+-----------+-------------+--------------------+-------+\n",
      "|   video_id|trending_date|               title|  views|\n",
      "+-----------+-------------+--------------------+-------+\n",
      "|LgVi6y5QIjM|     17.14.11|Sing zu Ende! | G...| 252786|\n",
      "|Bayt7uQith4|     17.14.11|Kinder ferngesteu...| 797196|\n",
      "|1ZAPwfrtAFY|     17.14.11|The Trump Preside...|2418783|\n",
      "|AHtypnRk7JE|     17.14.11| Das Fermi-Paradoxon| 380247|\n",
      "|ZJ9We4bjcg0|     17.14.11|18 SONGS mit Kell...| 822213|\n",
      "+-----------+-------------+--------------------+-------+\n",
      "only showing top 5 rows\n",
      "\n"
     ]
    }
   ],
   "source": [
    "#Question:01\n",
    "VideoStats = dataframe.select(\"video_id\", \"trending_date\", \"title\", \"views\")\n",
    "VideoStats.show(5)"
   ]
  },
  {
   "cell_type": "code",
   "execution_count": 24,
   "metadata": {},
   "outputs": [
    {
     "name": "stdout",
     "output_type": "stream",
     "text": [
      "+-----------+-------------+--------------------+-------+--------+\n",
      "|   video_id|trending_date|               title|  views|     new|\n",
      "+-----------+-------------+--------------------+-------+--------+\n",
      "|LgVi6y5QIjM|     17.14.11|Sing zu Ende! | G...| 252786| 2527.86|\n",
      "|Bayt7uQith4|     17.14.11|Kinder ferngesteu...| 797196| 7971.96|\n",
      "|1ZAPwfrtAFY|     17.14.11|The Trump Preside...|2418783|24187.83|\n",
      "|AHtypnRk7JE|     17.14.11| Das Fermi-Paradoxon| 380247| 3802.47|\n",
      "|ZJ9We4bjcg0|     17.14.11|18 SONGS mit Kell...| 822213| 8222.13|\n",
      "+-----------+-------------+--------------------+-------+--------+\n",
      "only showing top 5 rows\n",
      "\n"
     ]
    }
   ],
   "source": [
    "#Question:02\n",
    "from pyspark.sql.functions import col\n",
    "VideoStats = VideoStats.select(\"video_id\", \"trending_date\", \"title\", \"views\", (col(\"views\") / 100).alias(\"new\"))\n",
    "VideoStats.show(5)"
   ]
  },
  {
   "cell_type": "code",
   "execution_count": 25,
   "metadata": {},
   "outputs": [
    {
     "name": "stdout",
     "output_type": "stream",
     "text": [
      "+-----------------+\n",
      "|       avg(views)|\n",
      "+-----------------+\n",
      "|603440.5435958963|\n",
      "+-----------------+\n",
      "\n"
     ]
    }
   ],
   "source": [
    "#Question:03\n",
    "from pyspark.sql.functions import mean\n",
    "VideoStats = VideoStats.select(\"video_id\", \"views\").agg(mean(\"views\"))\n",
    "VideoStats.show(5)"
   ]
  },
  {
   "cell_type": "code",
   "execution_count": 28,
   "metadata": {},
   "outputs": [
    {
     "name": "stdout",
     "output_type": "stream",
     "text": [
      "+-----------+-------------+--------------------+--------------------+-----------+--------------------+--------------------+-------+------+--------+-------------+--------------------+-----------------+----------------+----------------------+--------------------+\n",
      "|   video_id|trending_date|               title|       channel_title|category_id|        publish_time|                tags|  views| likes|dislikes|comment_count|      thumbnail_link|comments_disabled|ratings_disabled|video_error_or_removed|         description|\n",
      "+-----------+-------------+--------------------+--------------------+-----------+--------------------+--------------------+-------+------+--------+-------------+--------------------+-----------------+----------------+----------------------+--------------------+\n",
      "|LgVi6y5QIjM|     17.14.11|Sing zu Ende! | G...|           inscope21|         24|2017-11-13T17:08:...|\"inscope21\"|\"sing...| 252786| 35885|     230|         1539|https://i.ytimg.c...|            False|           False|                 False|Heute gibt es mal...|\n",
      "|Bayt7uQith4|     17.14.11|Kinder ferngesteu...|LUKE! Die Woche u...|         23|2017-11-12T22:30:...|\"Kinder\"|\"fernges...| 797196| 53576|     302|         1278|https://i.ytimg.c...|            False|           False|                 False|Kinder ferngesteu...|\n",
      "|1ZAPwfrtAFY|     17.14.11|The Trump Preside...|     LastWeekTonight|         24|2017-11-13T07:30:...|\"last week tonigh...|2418783| 97190|    6146|        12703|https://i.ytimg.c...|            False|           False|                 False|One year after th...|\n",
      "|AHtypnRk7JE|     17.14.11| Das Fermi-Paradoxon|   100SekundenPhysik|         27|2017-11-12T15:00:...|\"Physik\"|\"Wissens...| 380247| 31821|     458|         1955|https://i.ytimg.c...|            False|           False|                 False|►Alle Videos: htt...|\n",
      "|ZJ9We4bjcg0|     17.14.11|18 SONGS mit Kell...|                rezo|         24|2017-11-12T13:10:...|\"kelly\"|\"missesvl...| 822213|100684|    2467|        10244|https://i.ytimg.c...|            False|           False|                 False|18 Song Mashup üb...|\n",
      "+-----------+-------------+--------------------+--------------------+-----------+--------------------+--------------------+-------+------+--------+-------------+--------------------+-----------------+----------------+----------------------+--------------------+\n",
      "only showing top 5 rows\n",
      "\n"
     ]
    },
    {
     "name": "stderr",
     "output_type": "stream",
     "text": [
      "\r",
      "[Stage 25:>                                                         (0 + 1) / 1]\r",
      "\r",
      "                                                                                \r"
     ]
    }
   ],
   "source": [
    "dataframe = spark.read.option(\"inferschema\", \"true\").option(\"header\", \"true\").csv(\"DEvideos02.csv\")\n",
    "dataframe.show(5)\n"
   ]
  },
  {
   "cell_type": "code",
   "execution_count": 30,
   "metadata": {},
   "outputs": [
    {
     "name": "stdout",
     "output_type": "stream",
     "text": [
      "+-----------+-------------+--------------------+-------+\n",
      "|   video_id|trending_date|               title|  views|\n",
      "+-----------+-------------+--------------------+-------+\n",
      "|LgVi6y5QIjM|     17.14.11|Sing zu Ende! | G...| 252786|\n",
      "|Bayt7uQith4|     17.14.11|Kinder ferngesteu...| 797196|\n",
      "|1ZAPwfrtAFY|     17.14.11|The Trump Preside...|2418783|\n",
      "|AHtypnRk7JE|     17.14.11| Das Fermi-Paradoxon| 380247|\n",
      "|ZJ9We4bjcg0|     17.14.11|18 SONGS mit Kell...| 822213|\n",
      "+-----------+-------------+--------------------+-------+\n",
      "only showing top 5 rows\n",
      "\n"
     ]
    }
   ],
   "source": [
    "#Question:04\n",
    "from pyspark.sql.functions import mean\n",
    "VideoStatsGroup = dataframe.select(\"video_id\", \"trending_date\", \"title\", \"views\")\n",
    "VideoStatsGroup.show(5)"
   ]
  },
  {
   "cell_type": "code",
   "execution_count": 31,
   "metadata": {},
   "outputs": [
    {
     "name": "stderr",
     "output_type": "stream",
     "text": [
      "\r",
      "[Stage 28:>                                                         (0 + 1) / 1]\r"
     ]
    },
    {
     "name": "stdout",
     "output_type": "stream",
     "text": [
      "+--------------------+----------+\n",
      "|       trending_date|avg(views)|\n",
      "+--------------------+----------+\n",
      "| dass sein Geld s...|      null|\n",
      "|  eine geniale Idee.|      null|\n",
      "|            18.08.05|823764.165|\n",
      "|            17.20.11| 698332.21|\n",
      "|            17.09.12|865658.605|\n",
      "+--------------------+----------+\n",
      "only showing top 5 rows\n",
      "\n"
     ]
    },
    {
     "name": "stderr",
     "output_type": "stream",
     "text": [
      "\r",
      "                                                                                \r"
     ]
    }
   ],
   "source": [
    "#Question:05\n",
    "VideoStatsGroup.groupBy(\"trending_date\").agg(mean(\"views\")).show(5)"
   ]
  },
  {
   "cell_type": "code",
   "execution_count": null,
   "metadata": {},
   "outputs": [],
   "source": []
  }
 ],
 "metadata": {
  "kernelspec": {
   "display_name": "Python 3",
   "language": "python",
   "name": "python3"
  },
  "language_info": {
   "codemirror_mode": {
    "name": "ipython",
    "version": 3
   },
   "file_extension": ".py",
   "mimetype": "text/x-python",
   "name": "python",
   "nbconvert_exporter": "python",
   "pygments_lexer": "ipython3",
   "version": "3.8.5"
  }
 },
 "nbformat": 4,
 "nbformat_minor": 5
}
